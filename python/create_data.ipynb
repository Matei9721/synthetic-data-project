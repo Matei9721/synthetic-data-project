{
 "cells": [
  {
   "cell_type": "code",
   "execution_count": 1,
   "metadata": {
    "collapsed": true
   },
   "outputs": [],
   "source": [
    "import pandas as pd\n",
    "import numpy as np\n",
    "import xarray as xr\n",
    "import synthia as syn\n",
    "import pyvinecopulib as pv\n",
    "import matplotlib.pyplot as plt"
   ]
  },
  {
   "cell_type": "code",
   "execution_count": 2,
   "outputs": [],
   "source": [
    "german_credit = pd.read_csv('data/german_credit.csv')"
   ],
   "metadata": {
    "collapsed": false,
    "pycharm": {
     "name": "#%%\n"
    }
   }
  },
  {
   "cell_type": "code",
   "execution_count": 3,
   "outputs": [
    {
     "data": {
      "text/plain": "     Creditability  Account.Balance  Duration.of.Credit..month.  \\\n0                1                1                          18   \n1                1                1                           9   \n2                1                2                          12   \n3                1                1                          12   \n4                1                1                          12   \n..             ...              ...                         ...   \n995              0                1                          24   \n996              0                1                          24   \n997              0                4                          21   \n998              0                2                          12   \n999              0                1                          30   \n\n     Payment.Status.of.Previous.Credit  Purpose  Credit.Amount  \\\n0                                    4        2           1049   \n1                                    4        0           2799   \n2                                    2        9            841   \n3                                    4        0           2122   \n4                                    4        0           2171   \n..                                 ...      ...            ...   \n995                                  2        3           1987   \n996                                  2        0           2303   \n997                                  4        0          12680   \n998                                  2        3           6468   \n999                                  2        2           6350   \n\n     Value.Savings.Stocks  Length.of.current.employment  Instalment per cent  \\\n0                       1                             2                    4   \n1                       1                             3                    2   \n2                       2                             4                    2   \n3                       1                             3                    3   \n4                       1                             3                    4   \n..                    ...                           ...                  ...   \n995                     1                             3                    2   \n996                     1                             5                    4   \n997                     5                             5                    4   \n998                     5                             1                    2   \n999                     5                             5                    4   \n\n     Sex...Marital.Status  ...  Duration in Current address  \\\n0                       2  ...                            4   \n1                       3  ...                            2   \n2                       2  ...                            4   \n3                       3  ...                            2   \n4                       3  ...                            4   \n..                    ...  ...                          ...   \n995                     3  ...                            4   \n996                     3  ...                            1   \n997                     3  ...                            4   \n998                     3  ...                            1   \n999                     3  ...                            4   \n\n     Most.valuable.available.asset  Age..years.  Concurrent.Credits  \\\n0                                2           21                   3   \n1                                1           36                   3   \n2                                1           23                   3   \n3                                1           39                   3   \n4                                2           38                   1   \n..                             ...          ...                 ...   \n995                              1           21                   3   \n996                              1           45                   3   \n997                              4           30                   3   \n998                              4           52                   3   \n999                              2           31                   3   \n\n     Type.of.apartment  No of Credits at this Bank  Occupation  \\\n0                    1                           1           3   \n1                    1                           2           3   \n2                    1                           1           2   \n3                    1                           2           2   \n4                    2                           2           2   \n..                 ...                         ...         ...   \n995                  1                           1           2   \n996                  2                           1           3   \n997                  3                           1           4   \n998                  2                           1           4   \n999                  2                           1           3   \n\n     No of dependents  Telephone  Foreign Worker  \n0                   1          1               1  \n1                   2          1               1  \n2                   1          1               1  \n3                   2          1               2  \n4                   1          1               2  \n..                ...        ...             ...  \n995                 2          1               1  \n996                 1          1               1  \n997                 1          2               1  \n998                 1          2               1  \n999                 1          1               1  \n\n[1000 rows x 21 columns]",
      "text/html": "<div>\n<style scoped>\n    .dataframe tbody tr th:only-of-type {\n        vertical-align: middle;\n    }\n\n    .dataframe tbody tr th {\n        vertical-align: top;\n    }\n\n    .dataframe thead th {\n        text-align: right;\n    }\n</style>\n<table border=\"1\" class=\"dataframe\">\n  <thead>\n    <tr style=\"text-align: right;\">\n      <th></th>\n      <th>Creditability</th>\n      <th>Account.Balance</th>\n      <th>Duration.of.Credit..month.</th>\n      <th>Payment.Status.of.Previous.Credit</th>\n      <th>Purpose</th>\n      <th>Credit.Amount</th>\n      <th>Value.Savings.Stocks</th>\n      <th>Length.of.current.employment</th>\n      <th>Instalment per cent</th>\n      <th>Sex...Marital.Status</th>\n      <th>...</th>\n      <th>Duration in Current address</th>\n      <th>Most.valuable.available.asset</th>\n      <th>Age..years.</th>\n      <th>Concurrent.Credits</th>\n      <th>Type.of.apartment</th>\n      <th>No of Credits at this Bank</th>\n      <th>Occupation</th>\n      <th>No of dependents</th>\n      <th>Telephone</th>\n      <th>Foreign Worker</th>\n    </tr>\n  </thead>\n  <tbody>\n    <tr>\n      <th>0</th>\n      <td>1</td>\n      <td>1</td>\n      <td>18</td>\n      <td>4</td>\n      <td>2</td>\n      <td>1049</td>\n      <td>1</td>\n      <td>2</td>\n      <td>4</td>\n      <td>2</td>\n      <td>...</td>\n      <td>4</td>\n      <td>2</td>\n      <td>21</td>\n      <td>3</td>\n      <td>1</td>\n      <td>1</td>\n      <td>3</td>\n      <td>1</td>\n      <td>1</td>\n      <td>1</td>\n    </tr>\n    <tr>\n      <th>1</th>\n      <td>1</td>\n      <td>1</td>\n      <td>9</td>\n      <td>4</td>\n      <td>0</td>\n      <td>2799</td>\n      <td>1</td>\n      <td>3</td>\n      <td>2</td>\n      <td>3</td>\n      <td>...</td>\n      <td>2</td>\n      <td>1</td>\n      <td>36</td>\n      <td>3</td>\n      <td>1</td>\n      <td>2</td>\n      <td>3</td>\n      <td>2</td>\n      <td>1</td>\n      <td>1</td>\n    </tr>\n    <tr>\n      <th>2</th>\n      <td>1</td>\n      <td>2</td>\n      <td>12</td>\n      <td>2</td>\n      <td>9</td>\n      <td>841</td>\n      <td>2</td>\n      <td>4</td>\n      <td>2</td>\n      <td>2</td>\n      <td>...</td>\n      <td>4</td>\n      <td>1</td>\n      <td>23</td>\n      <td>3</td>\n      <td>1</td>\n      <td>1</td>\n      <td>2</td>\n      <td>1</td>\n      <td>1</td>\n      <td>1</td>\n    </tr>\n    <tr>\n      <th>3</th>\n      <td>1</td>\n      <td>1</td>\n      <td>12</td>\n      <td>4</td>\n      <td>0</td>\n      <td>2122</td>\n      <td>1</td>\n      <td>3</td>\n      <td>3</td>\n      <td>3</td>\n      <td>...</td>\n      <td>2</td>\n      <td>1</td>\n      <td>39</td>\n      <td>3</td>\n      <td>1</td>\n      <td>2</td>\n      <td>2</td>\n      <td>2</td>\n      <td>1</td>\n      <td>2</td>\n    </tr>\n    <tr>\n      <th>4</th>\n      <td>1</td>\n      <td>1</td>\n      <td>12</td>\n      <td>4</td>\n      <td>0</td>\n      <td>2171</td>\n      <td>1</td>\n      <td>3</td>\n      <td>4</td>\n      <td>3</td>\n      <td>...</td>\n      <td>4</td>\n      <td>2</td>\n      <td>38</td>\n      <td>1</td>\n      <td>2</td>\n      <td>2</td>\n      <td>2</td>\n      <td>1</td>\n      <td>1</td>\n      <td>2</td>\n    </tr>\n    <tr>\n      <th>...</th>\n      <td>...</td>\n      <td>...</td>\n      <td>...</td>\n      <td>...</td>\n      <td>...</td>\n      <td>...</td>\n      <td>...</td>\n      <td>...</td>\n      <td>...</td>\n      <td>...</td>\n      <td>...</td>\n      <td>...</td>\n      <td>...</td>\n      <td>...</td>\n      <td>...</td>\n      <td>...</td>\n      <td>...</td>\n      <td>...</td>\n      <td>...</td>\n      <td>...</td>\n      <td>...</td>\n    </tr>\n    <tr>\n      <th>995</th>\n      <td>0</td>\n      <td>1</td>\n      <td>24</td>\n      <td>2</td>\n      <td>3</td>\n      <td>1987</td>\n      <td>1</td>\n      <td>3</td>\n      <td>2</td>\n      <td>3</td>\n      <td>...</td>\n      <td>4</td>\n      <td>1</td>\n      <td>21</td>\n      <td>3</td>\n      <td>1</td>\n      <td>1</td>\n      <td>2</td>\n      <td>2</td>\n      <td>1</td>\n      <td>1</td>\n    </tr>\n    <tr>\n      <th>996</th>\n      <td>0</td>\n      <td>1</td>\n      <td>24</td>\n      <td>2</td>\n      <td>0</td>\n      <td>2303</td>\n      <td>1</td>\n      <td>5</td>\n      <td>4</td>\n      <td>3</td>\n      <td>...</td>\n      <td>1</td>\n      <td>1</td>\n      <td>45</td>\n      <td>3</td>\n      <td>2</td>\n      <td>1</td>\n      <td>3</td>\n      <td>1</td>\n      <td>1</td>\n      <td>1</td>\n    </tr>\n    <tr>\n      <th>997</th>\n      <td>0</td>\n      <td>4</td>\n      <td>21</td>\n      <td>4</td>\n      <td>0</td>\n      <td>12680</td>\n      <td>5</td>\n      <td>5</td>\n      <td>4</td>\n      <td>3</td>\n      <td>...</td>\n      <td>4</td>\n      <td>4</td>\n      <td>30</td>\n      <td>3</td>\n      <td>3</td>\n      <td>1</td>\n      <td>4</td>\n      <td>1</td>\n      <td>2</td>\n      <td>1</td>\n    </tr>\n    <tr>\n      <th>998</th>\n      <td>0</td>\n      <td>2</td>\n      <td>12</td>\n      <td>2</td>\n      <td>3</td>\n      <td>6468</td>\n      <td>5</td>\n      <td>1</td>\n      <td>2</td>\n      <td>3</td>\n      <td>...</td>\n      <td>1</td>\n      <td>4</td>\n      <td>52</td>\n      <td>3</td>\n      <td>2</td>\n      <td>1</td>\n      <td>4</td>\n      <td>1</td>\n      <td>2</td>\n      <td>1</td>\n    </tr>\n    <tr>\n      <th>999</th>\n      <td>0</td>\n      <td>1</td>\n      <td>30</td>\n      <td>2</td>\n      <td>2</td>\n      <td>6350</td>\n      <td>5</td>\n      <td>5</td>\n      <td>4</td>\n      <td>3</td>\n      <td>...</td>\n      <td>4</td>\n      <td>2</td>\n      <td>31</td>\n      <td>3</td>\n      <td>2</td>\n      <td>1</td>\n      <td>3</td>\n      <td>1</td>\n      <td>1</td>\n      <td>1</td>\n    </tr>\n  </tbody>\n</table>\n<p>1000 rows × 21 columns</p>\n</div>"
     },
     "execution_count": 3,
     "metadata": {},
     "output_type": "execute_result"
    }
   ],
   "source": [
    "german_credit"
   ],
   "metadata": {
    "collapsed": false,
    "pycharm": {
     "name": "#%%\n"
    }
   }
  },
  {
   "cell_type": "code",
   "execution_count": 4,
   "outputs": [],
   "source": [
    "generator = syn.CopulaDataGenerator()\n",
    "generator.fit(german_credit, copula=syn.GaussianCopula())\n",
    "N_samples = 1000\n",
    "synthetic_data = generator.generate(N_samples)"
   ],
   "metadata": {
    "collapsed": false,
    "pycharm": {
     "name": "#%%\n"
    }
   }
  },
  {
   "cell_type": "code",
   "execution_count": 5,
   "outputs": [
    {
     "data": {
      "text/plain": "array([[ 1,  4, 36, ...,  1,  2,  1],\n       [ 0,  4, 60, ...,  1,  1,  1],\n       [ 1,  4, 12, ...,  1,  2,  1],\n       ...,\n       [ 1,  4, 21, ...,  1,  2,  1],\n       [ 1,  4, 24, ...,  1,  1,  1],\n       [ 0,  4,  6, ...,  1,  2,  1]], dtype=int64)"
     },
     "execution_count": 5,
     "metadata": {},
     "output_type": "execute_result"
    }
   ],
   "source": [
    "synthetic_data"
   ],
   "metadata": {
    "collapsed": false,
    "pycharm": {
     "name": "#%%\n"
    }
   }
  },
  {
   "cell_type": "code",
   "execution_count": 6,
   "outputs": [],
   "source": [
    "data_frame = pd.DataFrame(synthetic_data.tolist())\n",
    "\n",
    "data_frame.to_csv(\"generated_data/synthethic.csv\", index=False)\n",
    "\n"
   ],
   "metadata": {
    "collapsed": false,
    "pycharm": {
     "name": "#%%\n"
    }
   }
  }
 ],
 "metadata": {
  "kernelspec": {
   "display_name": "Python 3",
   "language": "python",
   "name": "python3"
  },
  "language_info": {
   "codemirror_mode": {
    "name": "ipython",
    "version": 2
   },
   "file_extension": ".py",
   "mimetype": "text/x-python",
   "name": "python",
   "nbconvert_exporter": "python",
   "pygments_lexer": "ipython2",
   "version": "2.7.6"
  }
 },
 "nbformat": 4,
 "nbformat_minor": 0
}